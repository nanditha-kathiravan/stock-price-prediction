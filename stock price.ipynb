{
 "cells": [
  {
   "cell_type": "code",
   "execution_count": null,
   "metadata": {},
   "outputs": [],
   "source": []
  },
  {
   "cell_type": "markdown",
   "id": "e01ddcd0",
   "metadata": {},
   "source": [
    "# Stock Price Prediction"
   ]
  },
  {
   "cell_type": "code",
   "execution_count": null,
   "metadata": {},
   "outputs": [],
   "source": [
    "# The stock of a corporation signifies ownership in the corporation\n",
    "\n",
    "# For e.g. if an investor owns 50 shares of stock in a company that has, in total 1000 outstanding shares,\n",
    "# that investor or shareholder would own and have claim on 5% of the company assets and earnings.\n",
    "\n",
    "import warnings\n",
    "warnings.filterwarnings(\"ignore\")\n",
    "\n",
    "import pandas as pd\n",
    "from sklearn.model_selection import GridSearchCV\n",
    "from sklearn.metrics import mean_squared_error, mean_absolute_error, r2_score\n",
    "from sklearn.preprocessing import StandardScaler"
   ]
  },
  {
   "cell_type": "code",
   "execution_count": null,
   "metadata": {},
   "outputs": [],
   "source": [
    "data_raw= pd.read_csv(\"stocks.csv\", index_col=\"Date\")\n",
    "data_raw.head()"
   ]
  },
  {
   "cell_type": "code",
   "execution_count": null,
   "metadata": {},
   "outputs": [],
   "source": [
    "# Open- The starting price for a given trading day\n",
    "# Close: The final price on that day\n",
    "# High: The highest prices at which the stock traded on that day\n",
    "# Low: The lowest price at which the stock traded on that day\n",
    "# Volume: The total number of shares traded before the market is closed on that day"
   ]
  },
  {
   "cell_type": "code",
   "execution_count": null,
   "metadata": {},
   "outputs": [],
   "source": [
    "def generate_features(df):\n",
    "    df_new=pd.DataFrame()\n",
    "    df_new['open']=df['Open']\n",
    "    df_new['open_1']=df['Open'].shift(1)\n",
    "    df_new['close_1']=df['Close'].shift(1)\n",
    "    df_new['high_1']=df['High'].shift(1)\n",
    "    df_new['low_1']=df['Low'].shift(1)\n",
    "    df_new['volume_1']=df['Volume'].shift(1)\n",
    "    # average price\n",
    "    df_new['avg_price_5']= df['Close'].rolling(5).mean().shift(1)\n",
    "    df_new['avg_price_30']= df['Close'].rolling(21).mean().shift(1)\n",
    "    df_new['avg_price_365']= df['Close'].rolling(252).mean().shift(1)\n",
    "    df_new['ratio_avg_price_5_30']= df_new['avg_price_5']/df_new['avg_price_30']\n",
    "    df_new['ratio_avg_price_5_365']= df_new['avg_price_5']/df_new['avg_price_365']\n",
    "    df_new['ratio_avg_price_30_365']= df_new['avg_price_30']/df_new['avg_price_365']\n",
    "    # average volume\n",
    "    df_new['avg_volume_5']= df['Volume'].rolling(5).mean().shift(1)\n",
    "    df_new['avg_volume_30']= df['Volume'].rolling(21).mean().shift(1)\n",
    "    df_new['avg_volume_365']= df['Volume'].rolling(252).mean().shift(1)\n",
    "    df_new['ratio_avg_volume_5_30']= df_new['avg_volume_5']/df_new['avg_volume_30']\n",
    "    df_new['ratio_avg_volume_5_365']= df_new['avg_volume_5']/df_new['avg_volume_365']\n",
    "    df_new['ratio_avg_volume30_365']= df_new['avg_volume_30']/df_new['avg_volume_365']\n",
    "    #standard deviation of prices\n",
    "    df_new['std_price_5']= df['Close'].rolling(5).std().shift(1)\n",
    "    df_new['std_price_30']= df['Close'].rolling(21).std().shift(1)\n",
    "    df_new['std_price_365']= df['Close'].rolling(252).std().shift(1)\n",
    "    df_new['ratio_std_price_5_30']= df_new['std_price_5']/df_new['std_price_30']\n",
    "    df_new['ratio_std_price_5_365']= df_new['std_price_5']/df_new['std_price_365']\n",
    "    df_new['ratio_std_price_30_365']= df_new['std_price_30']/df_new['std_price_365']\n",
    "    # standard deviation of volume\n",
    "    df_new['std_volume_5']= df['Volume'].rolling(5).std().shift(1)\n",
    "    df_new['std_volume_30']= df['Volume'].rolling(21).std().shift(1)\n",
    "    df_new['std_volume_365']= df['Volume'].rolling(252).std().shift(1)\n",
    "    df_new['ratio_std_volume_5_30']= df_new['std_volume_5']/df_new['std_volume_30']\n",
    "    df_new['ratio_std_volume_5_365']= df_new['std_volume_5']/df_new['std_volume_365']\n",
    "    df_new['ratio_std_volume_30_365']= df_new['std_volume_30']/df_new['std_volume_365']\n",
    "    # the target\n",
    "    df_new['close']=df['Close']\n",
    "    df_new=df_new.dropna(axis=0)\n",
    "    return df_new"
   ]
  },
  {
   "cell_type": "code",
   "execution_count": null,
   "metadata": {},
   "outputs": [],
   "source": [
    "data= generate_features(data_raw)\n",
    "data.head()"
   ]
  },
  {
   "cell_type": "code",
   "execution_count": null,
   "metadata": {},
   "outputs": [],
   "source": [
    "start_train= \"1988-01-01\"\n",
    "end_train=\"2015-12-31\"\n",
    "\n",
    "start_test=\"2016-01-01\"\n",
    "end_test=\"2016-12-31\""
   ]
  },
  {
   "cell_type": "code",
   "execution_count": null,
   "metadata": {},
   "outputs": [],
   "source": [
    "data_train=data[start_train:end_train]\n",
    "\n",
    "X_train= data_train.drop('close',axis=1).values\n",
    "y_train= data_train['close'].values"
   ]
  },
  {
   "cell_type": "code",
   "execution_count": null,
   "metadata": {},
   "outputs": [],
   "source": [
    "print(X_train.shape)\n",
    "print(y_train.shape)"
   ]
  },
  {
   "cell_type": "code",
   "execution_count": null,
   "metadata": {},
   "outputs": [],
   "source": [
    "data_test= data[start_test:end_test]\n",
    "\n",
    "X_test= data_test.drop('close',axis=1).values\n",
    "y_test= data_test['close'].values"
   ]
  },
  {
   "cell_type": "code",
   "execution_count": null,
   "metadata": {},
   "outputs": [],
   "source": [
    "# First experiment with Linear Regression\n",
    "\n",
    "scaler=StandardScaler()\n",
    "\n",
    "X_scaled_train= scaler.fit_transform(X_train)\n",
    "X_scaled_test=scaler.transform(X_test)\n",
    "\n",
    "param_grid={\n",
    "    \"alpha\":[1e-5,3e-5,1e-4],\n",
    "    \"eta0\":[0.01,0.03,0.1]\n",
    "}\n",
    "# l1, l2\n",
    "\n",
    "from sklearn.linear_model import SGDRegressor\n",
    "\n",
    "lr=SGDRegressor(penalty=\"l2\", max_iter=100)\n",
    "grid_search= GridSearchCV(lr, param_grid, cv=5, scoring=\"r2\")\n",
    "grid_search.fit(X_scaled_train, y_train)\n",
    "\n",
    "print(grid_search.best_params_)"
   ]
  },
  {
   "cell_type": "code",
   "execution_count": null,
   "metadata": {},
   "outputs": [],
   "source": [
    "lr_best= grid_search.best_estimator_\n",
    "\n",
    "predictions_lr= lr_best.predict(X_scaled_test)"
   ]
  },
  {
   "cell_type": "code",
   "execution_count": null,
   "metadata": {},
   "outputs": [],
   "source": [
    "print('MSE:{0:.3f}'.format(mean_squared_error(y_test, predictions_lr)))\n",
    "print('MAE:{0:.3f}'.format(mean_absolute_error(y_test, predictions_lr)))\n",
    "print('R^2:{0:.3f}'.format(r2_score(y_test, predictions_lr)))"
   ]
  },
  {
   "cell_type": "code",
   "execution_count": null,
   "metadata": {},
   "outputs": [],
   "source": [
    "# Experiment with Random Forest\n",
    "\n",
    "param_grid={\n",
    "    'max_depth':[5,10,15],\n",
    "    'min_samples_split':[5,10],\n",
    "    'max_features':['auto','sqrt'],\n",
    "    'min_samples_leaf':[3,4]\n",
    "}\n"
   ]
  },
  {
   "cell_type": "code",
   "execution_count": null,
   "metadata": {},
   "outputs": [],
   "source": [
    "from sklearn.ensemble import RandomForestRegressor\n",
    "\n",
    "rf=RandomForestRegressor(n_estimators=100, n_jobs=-1)\n",
    "\n",
    "grid_search= GridSearchCV(rf, param_grid, cv=5, scoring=\"r2\", n_jobs=-1)\n",
    "grid_search.fit(X_scaled_train, y_train)\n",
    "\n",
    "print(grid_search.best_params_)"
   ]
  },
  {
   "cell_type": "code",
   "execution_count": null,
   "metadata": {},
   "outputs": [],
   "source": [
    "rf_best= grid_search.best_estimator_\n",
    "\n",
    "predictions_rf= rf_best.predict(X_scaled_test)"
   ]
  },
  {
   "cell_type": "code",
   "execution_count": null,
   "metadata": {},
   "outputs": [],
   "source": [
    "print('MSE:{0:.3f}'.format(mean_squared_error(y_test, predictions_rf)))\n",
    "print('MAE:{0:.3f}'.format(mean_absolute_error(y_test, predictions_rf)))\n",
    "print('R^2:{0:.3f}'.format(r2_score(y_test, predictions_rf)))"
   ]
  }
 ],
 "metadata": {
  "language_info": {
   "name": "python"
  },
  "orig_nbformat": 4
 },
 "nbformat": 4,
 "nbformat_minor": 2
}
